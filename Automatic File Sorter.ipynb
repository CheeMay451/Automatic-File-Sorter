{
 "cells": [
  {
   "cell_type": "markdown",
   "id": "f3c26010-a910-4086-a31a-b8bc3d533415",
   "metadata": {},
   "source": [
    "# Automatic File Sorter in File Explorer"
   ]
  },
  {
   "cell_type": "code",
   "execution_count": 69,
   "id": "986398a4-8f48-4a79-a9a6-2f7fdc2ca31c",
   "metadata": {},
   "outputs": [],
   "source": [
    "import os, shutil # shutil (shell utilities) offers high level operations like copy, create, and remote operation on a file"
   ]
  },
  {
   "cell_type": "code",
   "execution_count": 71,
   "id": "45661374-3574-48e7-8838-8a82f8ec0db5",
   "metadata": {},
   "outputs": [],
   "source": [
    "path = r\"C:/Users/cheem/OneDrive/Desktop/Data_Analytics/Alex_The_Analyst_Bootcamp/python tutorials/\" # r makes it a raw text"
   ]
  },
  {
   "cell_type": "code",
   "execution_count": 77,
   "id": "15372e6a-4844-4b0b-8b62-701a4d9af6e3",
   "metadata": {},
   "outputs": [
    {
     "data": {
      "text/plain": [
       "['Conditional Formatting Excel Tutorial File.xlsx',\n",
       " 'flight_photo.jpg',\n",
       " 'property_valuation.txt']"
      ]
     },
     "execution_count": 77,
     "metadata": {},
     "output_type": "execute_result"
    }
   ],
   "source": [
    "# Show all the files within the path\n",
    "\n",
    "file_name = os.listdir(path)\n",
    "\n",
    "os.listdir(path)"
   ]
  },
  {
   "cell_type": "code",
   "execution_count": 93,
   "id": "47b45423-b255-4b59-bd23-f4881cdb6e3d",
   "metadata": {},
   "outputs": [
    {
     "name": "stdout",
     "output_type": "stream",
     "text": [
      "C:/Users/cheem/OneDrive/Desktop/Data_Analytics/Alex_The_Analyst_Bootcamp/python tutorials/excel folder\n",
      "C:/Users/cheem/OneDrive/Desktop/Data_Analytics/Alex_The_Analyst_Bootcamp/python tutorials/text folder\n",
      "C:/Users/cheem/OneDrive/Desktop/Data_Analytics/Alex_The_Analyst_Bootcamp/python tutorials/image folder\n"
     ]
    }
   ],
   "source": [
    "# Create folders if they do not exist\n",
    "\n",
    "folder_names = ['excel folder', 'text folder', 'image folder']\n",
    "\n",
    "for i in range(0,3): # loop from 0 to 2\n",
    "    if not os.path.exists(path + folder_names[i]): # if the folders do not exist\n",
    "        print(path + folder_names[i]) # print the folders\n",
    "        os.makedirs(path + folder_names[i]) # create folders in file explorer"
   ]
  },
  {
   "cell_type": "code",
   "execution_count": 99,
   "id": "b7fd05af-26d8-4db7-a145-0e0838928011",
   "metadata": {},
   "outputs": [],
   "source": [
    "for file in file_name:\n",
    "    if \".xlsx\" in file and not os.path.exists(path + \"excel folder/\" + file):   # if the string is in the file path, not the folder path\n",
    "        shutil.move(path + file, path + \"excel folder/\" + file)  # move the file to folder\n",
    "    elif \".jpg\" in file and not os.path.exists(path + \"image folder/\" + file):  \n",
    "        shutil.move(path + file, path + \"image folder/\" + file)\n",
    "    elif \".txt\" in file and not os.path.exists(path + \"text folder/\" + file):\n",
    "        shutil.move(path + file, path + \"text folder/\" + file)"
   ]
  },
  {
   "cell_type": "code",
   "execution_count": null,
   "id": "9dd517cc-cf87-4f67-ab2f-edc4cac51085",
   "metadata": {},
   "outputs": [],
   "source": []
  }
 ],
 "metadata": {
  "kernelspec": {
   "display_name": "Python 3 (ipykernel)",
   "language": "python",
   "name": "python3"
  },
  "language_info": {
   "codemirror_mode": {
    "name": "ipython",
    "version": 3
   },
   "file_extension": ".py",
   "mimetype": "text/x-python",
   "name": "python",
   "nbconvert_exporter": "python",
   "pygments_lexer": "ipython3",
   "version": "3.12.7"
  }
 },
 "nbformat": 4,
 "nbformat_minor": 5
}
